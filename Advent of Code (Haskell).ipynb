{
 "cells": [
  {
   "cell_type": "code",
   "execution_count": 8,
   "metadata": {
    "collapsed": false
   },
   "outputs": [],
   "source": [
    "import Data.List (findIndex)\n",
    "import Data.Maybe\n",
    "import Data.String.Utils"
   ]
  },
  {
   "cell_type": "code",
   "execution_count": 9,
   "metadata": {
    "collapsed": true
   },
   "outputs": [],
   "source": [
    "findInput :: Int -> IO String\n",
    "findInput n = let i = if even n then n `div` 2 else (n + 1) `div` 2\n",
    "              in readFile $ \"inputs/input\" ++ show i ++ \".txt\""
   ]
  },
  {
   "cell_type": "code",
   "execution_count": 10,
   "metadata": {
    "collapsed": true
   },
   "outputs": [],
   "source": [
    "floorDiff :: Char -> Int\n",
    "floorDiff c\n",
    "    | c == '(' = 1\n",
    "    | c == ')' = -1"
   ]
  },
  {
   "cell_type": "code",
   "execution_count": 11,
   "metadata": {
    "collapsed": false
   },
   "outputs": [
    {
     "data": {
      "text/plain": [
       "232"
      ]
     },
     "metadata": {},
     "output_type": "display_data"
    }
   ],
   "source": [
    "-- Problem 1\n",
    "findInput 1 >>= print . sum . map floorDiff"
   ]
  },
  {
   "cell_type": "code",
   "execution_count": 12,
   "metadata": {
    "collapsed": false
   },
   "outputs": [
    {
     "data": {
      "text/plain": [
       "1783"
      ]
     },
     "metadata": {},
     "output_type": "display_data"
    }
   ],
   "source": [
    "-- Problem 2\n",
    "input <- findInput 2\n",
    "let currentFloorState = scanl1 (+) $ map floorDiff input\n",
    "print . succ . fromMaybe (-1) $ findIndex (<0) currentFloorState"
   ]
  },
  {
   "cell_type": "code",
   "execution_count": 13,
   "metadata": {
    "collapsed": true
   },
   "outputs": [],
   "source": [
    "getLWHs :: [String] -> [[Int]]\n",
    "getLWHs = map (map read . split \"x\")"
   ]
  },
  {
   "cell_type": "code",
   "execution_count": 14,
   "metadata": {
    "collapsed": false
   },
   "outputs": [
    {
     "data": {
      "text/plain": [
       "1588178"
      ]
     },
     "metadata": {},
     "output_type": "display_data"
    }
   ],
   "source": [
    "-- Problem 3\n",
    "input <- findInput 3\n",
    "print $ sum [ 2*l*w + 2*l*h + 2*w*h + minimum [l*w, l*h, w*h]\n",
    "            | [l, w, h] <- getLWHs $ lines input]"
   ]
  },
  {
   "cell_type": "code",
   "execution_count": 15,
   "metadata": {
    "collapsed": false
   },
   "outputs": [
    {
     "data": {
      "text/plain": [
       "3783758"
      ]
     },
     "metadata": {},
     "output_type": "display_data"
    }
   ],
   "source": [
    "-- Problem 4\n",
    "print $ sum [ l*w*h + 2 * minimum [l+w, l+h, w+h]\n",
    "            | [l, w, h] <- getLWHs $ lines input]"
   ]
  },
  {
   "cell_type": "code",
   "execution_count": null,
   "metadata": {
    "collapsed": true
   },
   "outputs": [],
   "source": []
  }
 ],
 "metadata": {
  "kernelspec": {
   "display_name": "Haskell",
   "language": "haskell",
   "name": "haskell"
  },
  "language_info": {
   "codemirror_mode": "ihaskell",
   "file_extension": ".hs",
   "name": "haskell",
   "version": "7.10.2"
  }
 },
 "nbformat": 4,
 "nbformat_minor": 0
}
