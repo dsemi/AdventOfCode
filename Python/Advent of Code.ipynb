{
 "cells": [
  {
   "cell_type": "code",
   "execution_count": 1,
   "metadata": {
    "collapsed": true
   },
   "outputs": [],
   "source": [
    "def get_input(day):\n",
    "    with open('../inputs/input%d.txt' % day) as f:\n",
    "        return f.read().strip()"
   ]
  },
  {
   "cell_type": "code",
   "execution_count": null,
   "metadata": {
    "collapsed": false
   },
   "outputs": [],
   "source": [
    "day = 1\n",
    "input = get_input(day)\n",
    "\n",
    "m = {'(': 1, ')': -1}\n",
    "\n",
    "print(sum(m[x] for x in input))\n",
    "\n",
    "s = 0\n",
    "for i, x in enumerate(input):\n",
    "    s += m[x]\n",
    "    if s < 0:\n",
    "        print(i+1)\n",
    "        break"
   ]
  },
  {
   "cell_type": "code",
   "execution_count": null,
   "metadata": {
    "collapsed": false
   },
   "outputs": [],
   "source": [
    "day = 2\n",
    "input = get_input(day)\n",
    "\n",
    "s = 0\n",
    "for line in input.split('\\n'):\n",
    "    [l, w, h] = map(int, line.split('x'))\n",
    "    s += 2*l*w + 2*l*h + 2*w*h + min(l*w, l*h, w*h)\n",
    "print(s)\n",
    "\n",
    "s = 0\n",
    "for line in input.split('\\n'):\n",
    "    [l, w, h] = map(int, line.split('x'))\n",
    "    s += 2 * min(l+w, l+h, w+h) + l*w*h\n",
    "print(s)"
   ]
  },
  {
   "cell_type": "code",
   "execution_count": null,
   "metadata": {
    "collapsed": false
   },
   "outputs": [],
   "source": [
    "day = 3\n",
    "input = get_input(day)\n",
    "\n",
    "m = {\n",
    "    '^': lambda x,y: (x, y+1),\n",
    "    'v': lambda x,y: (x, y-1),\n",
    "    '>': lambda x,y: (x+1, y),\n",
    "    '<': lambda x,y: (x-1, y),\n",
    "}\n",
    "\n",
    "p = (0,0)\n",
    "s = {p}\n",
    "for x in input:\n",
    "    p = m[x](*p)\n",
    "    s.add(p)\n",
    "print(len(s))\n",
    "\n",
    "p1 = (0,0)\n",
    "p2 = (0,0)\n",
    "s = {p1}\n",
    "for x1,x2 in zip(input[::2], input[1::2]):\n",
    "    p1 = m[x1](*p1)\n",
    "    p2 = m[x2](*p2)\n",
    "    s.add(p1)\n",
    "    s.add(p2)\n",
    "print(len(s))"
   ]
  },
  {
   "cell_type": "code",
   "execution_count": 2,
   "metadata": {
    "collapsed": false,
    "scrolled": true
   },
   "outputs": [
    {
     "name": "stdout",
     "output_type": "stream",
     "text": [
      "117946\n",
      "3938038\n"
     ]
    }
   ],
   "source": [
    "day = 4\n",
    "input = get_input(day)\n",
    "\n",
    "import hashlib\n",
    "from itertools import count\n",
    "\n",
    "def f(s):\n",
    "    for i in count(1):\n",
    "        if hashlib.md5((input + str(i)).encode('utf-8')).hexdigest().startswith(s):\n",
    "            return i\n",
    "\n",
    "print(f(\"00000\"))\n",
    "\n",
    "print(f(\"000000\"))"
   ]
  },
  {
   "cell_type": "code",
   "execution_count": null,
   "metadata": {
    "collapsed": false
   },
   "outputs": [],
   "source": [
    "day = 5\n",
    "input = get_input(day)\n",
    "\n",
    "import re\n",
    "\n",
    "def is_nice(s):\n",
    "    return len(re.findall(r'[aeiou]', s)) > 2 \\\n",
    "           and re.search(r'(.)\\1', s) \\\n",
    "           and not re.search(r'ab|cd|pq|xy', s)\n",
    "        \n",
    "print(sum(1 for x in input.split('\\n') if is_nice(x)))\n",
    "\n",
    "def is_nice2(s):\n",
    "    return re.search(r'(..).*\\1', s) \\\n",
    "           and re.search(r'(.).\\1', s)\n",
    "    \n",
    "print(sum(1 for x in input.split('\\n') if is_nice2(x)))"
   ]
  },
  {
   "cell_type": "code",
   "execution_count": null,
   "metadata": {
    "collapsed": false
   },
   "outputs": [],
   "source": [
    "day = 6\n",
    "input = get_input(day)\n",
    "\n",
    "import re\n",
    "\n",
    "def run_command(grid, cmd_str, fun1, fun2, fun3):\n",
    "    m = re.match(r'(toggle|turn on|turn off) (\\d+),(\\d+) through (\\d+),(\\d+)', line)\n",
    "    cmd = m.group(1)\n",
    "    x1,y1,x2,y2 = map(int, m.group(2, 3, 4, 5))\n",
    "    f = fun1 if cmd == \"toggle\" else fun2 if cmd == \"turn on\" else fun3\n",
    "    for x in range(x1, x2+1):\n",
    "        for y in range(y1, y2+1):\n",
    "            grid[x][y] = f(grid[x][y])\n",
    "\n",
    "grid = [[0 for _ in range(1000)] for _ in range(1000)]\n",
    "for line in input.split('\\n'):\n",
    "    run_command(grid, line,\n",
    "                lambda x: x ^ 1,\n",
    "                lambda x: 1,\n",
    "                lambda x: 0)\n",
    "\n",
    "print(sum(map(sum, grid)))\n",
    "\n",
    "grid = [[0 for _ in range(1000)] for _ in range(1000)]\n",
    "for line in input.split('\\n'):\n",
    "    run_command(grid, line,\n",
    "                lambda x: x + 2,\n",
    "                lambda x: x + 1,\n",
    "                lambda x: max(0, x-1))\n",
    "\n",
    "print(sum(map(sum, grid)))"
   ]
  },
  {
   "cell_type": "code",
   "execution_count": null,
   "metadata": {
    "collapsed": false
   },
   "outputs": [],
   "source": [
    "day = 7\n",
    "input = get_input(day)\n",
    "\n",
    "import re\n",
    "from collections import deque\n",
    "\n",
    "ops = {\n",
    "    'NOT': '~',\n",
    "    'AND': '&',\n",
    "    'OR': '|',\n",
    "    'LSHIFT': '<<',\n",
    "    'RSHIFT': '>>',\n",
    "}\n",
    "\n",
    "def parse(line):\n",
    "    line = re.sub(r'([a-z]+)', 'nodes[\"\\\\1\"]', line)\n",
    "    expr, var = line.split(' -> ')\n",
    "    for op, val in ops.items():\n",
    "        expr = expr.replace(op, val)\n",
    "    return var, expr\n",
    "\n",
    "def eval_instr(instr, variables):\n",
    "    try:\n",
    "        exec(instr, {}, variables)\n",
    "        return True\n",
    "    except KeyError:\n",
    "        return False\n",
    "\n",
    "def get_node_value(instrs, varname):\n",
    "    variables = {'nodes': {}}\n",
    "    while len(instrs) > 0:\n",
    "        instr = instrs.popleft()\n",
    "        if not eval_instr(instr, variables):\n",
    "            instrs.append(instr)\n",
    "    return variables['nodes'][varname]\n",
    "\n",
    "instrs = deque('{} = {}'.format(*parse(line)) \n",
    "               for line in  input.split('\\n'))\n",
    "sol1 = get_node_value(instrs, 'a')\n",
    "print(sol1)\n",
    "\n",
    "instr_map = dict(parse(line)\n",
    "                 for line in  input.split('\\n'))\n",
    "instr_map['nodes[\"b\"]'] = sol1\n",
    "instrs = deque('{} = {}'.format(*pair) \n",
    "               for pair in instr_map.items())\n",
    "sol2 = get_node_value(instrs, 'a')\n",
    "print(sol2)"
   ]
  },
  {
   "cell_type": "code",
   "execution_count": null,
   "metadata": {
    "collapsed": false
   },
   "outputs": [],
   "source": [
    "# Alternate (way better) Day 7\n",
    "day = 7\n",
    "input = get_input(day)\n",
    "\n",
    "import re\n",
    "from functools import partial, reduce\n",
    "\n",
    "ops = {\n",
    "    'NOT': '~',\n",
    "    'AND': '&',\n",
    "    'OR': '|',\n",
    "    'LSHIFT': '<<',\n",
    "    'RSHIFT': '>>',\n",
    "}\n",
    "\n",
    "def memoize(f):\n",
    "    class memodict(dict):\n",
    "        def __missing__(self, key):\n",
    "            ret = self[key] = f(key)\n",
    "            return ret \n",
    "    return memodict().__getitem__\n",
    "\n",
    "def build_wires(input):\n",
    "    wires = {}\n",
    "    for line in input.split('\\n'):\n",
    "        rhs, w = re.match(r'(.+) -> (\\S+)', line).group(1, 2)\n",
    "        rhs = reduce(lambda x, y: x.replace(y[0], y[1]), ops.items(), rhs)\n",
    "        rhs = re.sub(r'([a-z]+)', 'wires[\"\\\\1\"]()', rhs)\n",
    "        wires[w] = partial(memoize(eval), rhs)\n",
    "    return wires\n",
    "\n",
    "wires = build_wires(input)\n",
    "ans1 = wires['a']()\n",
    "print(ans1)\n",
    "\n",
    "wires = build_wires(input)\n",
    "wires['b'] = lambda: ans1\n",
    "print(wires['a']())"
   ]
  },
  {
   "cell_type": "code",
   "execution_count": null,
   "metadata": {
    "collapsed": false
   },
   "outputs": [],
   "source": [
    "day = 8\n",
    "input = get_input(day)\n",
    "\n",
    "s = 0\n",
    "for line in input.split('\\n'):\n",
    "    s += len(line)\n",
    "    s -= len(eval(line))\n",
    "# Part 1\n",
    "print(s)\n",
    "\n",
    "# Part 2\n",
    "print(sum(2 + line.count('\"') + line.count('\\\\')\n",
    "          for line in input.split('\\n')))"
   ]
  },
  {
   "cell_type": "code",
   "execution_count": null,
   "metadata": {
    "collapsed": false
   },
   "outputs": [],
   "source": [
    "day = 9\n",
    "input = get_input(day)\n",
    "\n",
    "import re\n",
    "from collections import defaultdict\n",
    "from itertools import permutations\n",
    "\n",
    "m = defaultdict(dict)\n",
    "for line in input.split('\\n'):\n",
    "    x = re.match(r'(\\S+) to (\\S+) = (\\d+)', line)\n",
    "    p1, p2 = x.group(1, 2)\n",
    "    dist = int(x.group(3))\n",
    "    m[p1][p2] = dist\n",
    "    m[p2][p1] = dist\n",
    "\n",
    "mindist = float('inf')\n",
    "maxdist = 0\n",
    "for path in permutations(m.keys()):\n",
    "    dist = sum(m[a][b] for a, b in zip(path, path[1:]))\n",
    "    mindist = min(mindist, dist)\n",
    "    maxdist = max(maxdist, dist)\n",
    "\n",
    "# Part 1\n",
    "print(mindist)\n",
    "# Part 2\n",
    "print(maxdist)"
   ]
  },
  {
   "cell_type": "code",
   "execution_count": null,
   "metadata": {
    "collapsed": false
   },
   "outputs": [],
   "source": [
    "day = 10\n",
    "input = get_input(day)\n",
    "\n",
    "from itertools import groupby\n",
    "\n",
    "def look_and_say(input):\n",
    "    return ''.join(str(len(list(v))) + k for k, v in groupby(input))\n",
    "\n",
    "p1 = input\n",
    "for _ in range(40):\n",
    "    p1 = look_and_say(p1)\n",
    "print(len(p1))\n",
    "\n",
    "p2 = input\n",
    "for _ in range(50):\n",
    "    p2 = look_and_say(p2)\n",
    "print(len(p2))"
   ]
  },
  {
   "cell_type": "code",
   "execution_count": null,
   "metadata": {
    "collapsed": false
   },
   "outputs": [],
   "source": [
    "day = 11\n",
    "input = get_input(day)\n",
    "\n",
    "import re\n",
    "\n",
    "def incr_str(s):\n",
    "    c = 1\n",
    "    i = len(s) - 1\n",
    "    _s = ''\n",
    "    while c > 0 and i >= 0:\n",
    "        _s = chr(max(ord('a'), (ord(s[i])+1) % (ord('z')+1))) + _s\n",
    "        c = 1 if _s[0] == 'a' else 0\n",
    "        i -= 1\n",
    "    _s = s[:i+1] + _s\n",
    "    return _s\n",
    "\n",
    "def has_reqs(s):\n",
    "    x = 'abcdefghijklmnopqrstuvwxyz'\n",
    "    return any(z in s for z in [''.join(y) for y in zip(x, x[1:], x[2:])]) \\\n",
    "           and 'i' not in s and 'o' not in s and 'l' not in s \\\n",
    "           and len(re.findall(r'(.)\\1', s)) > 1\n",
    "\n",
    "pw = incr_str(input)\n",
    "while not has_reqs(pw):\n",
    "    pw = incr_str(pw)\n",
    "print(pw)\n",
    "\n",
    "pw = incr_str(pw)\n",
    "while not has_reqs(pw):\n",
    "    pw = incr_str(pw)\n",
    "print(pw)"
   ]
  },
  {
   "cell_type": "code",
   "execution_count": null,
   "metadata": {
    "collapsed": false
   },
   "outputs": [],
   "source": [
    "day = 12\n",
    "input = get_input(day)\n",
    "\n",
    "import json\n",
    "import re\n",
    "\n",
    "def find_ints(s):\n",
    "    return map(int, re.findall('-?\\d+', s))\n",
    "\n",
    "print(sum(find_ints(input)))\n",
    "\n",
    "def remove_red(obj):\n",
    "    if \"red\" in obj.values():\n",
    "        return {}\n",
    "    return obj\n",
    "\n",
    "print(sum(find_ints(str(json.loads(input, object_hook=remove_red)))))"
   ]
  },
  {
   "cell_type": "code",
   "execution_count": null,
   "metadata": {
    "collapsed": false
   },
   "outputs": [],
   "source": [
    "day = 13\n",
    "input = get_input(day)\n",
    "\n",
    "import re\n",
    "from collections import defaultdict\n",
    "from itertools import permutations\n",
    "\n",
    "m = defaultdict(dict)\n",
    "for line in input.split('\\n'):\n",
    "    x = re.match(r'(\\S+) would (lose|gain) (\\d+) happiness units by sitting next to (\\S+)\\.', line)\n",
    "    p1, op, ch, p2 = x.group(1, 2, 3, 4)\n",
    "    m[p1][p2] = -int(ch) if op == 'lose' else int(ch)\n",
    "\n",
    "def find_max_happiness(m):\n",
    "    maxhappiness = 0\n",
    "    for ordering in permutations(m.keys()):\n",
    "        happiness = sum(m[a][b]+m[b][a] for a, b in zip(ordering, ordering[1:]))\n",
    "        happiness += m[ordering[0]][ordering[-1]] + m[ordering[-1]][ordering[0]]\n",
    "        maxhappiness = max(maxhappiness, happiness)\n",
    "    return maxhappiness\n",
    "\n",
    "print(find_max_happiness(m))\n",
    "\n",
    "for k in list(m.keys()):\n",
    "    m['me'][k] = 0\n",
    "    m[k]['me'] = 0\n",
    "\n",
    "print(find_max_happiness(m))"
   ]
  },
  {
   "cell_type": "code",
   "execution_count": null,
   "metadata": {
    "collapsed": false
   },
   "outputs": [],
   "source": [
    "day = 14\n",
    "input = get_input(day)\n",
    "\n",
    "import re\n",
    "from collections import Counter\n",
    "from itertools import accumulate, repeat, cycle, islice, chain\n",
    "\n",
    "class Reindeer(object):\n",
    "    def __init__(self, name, speed, fly_time, rest_time):\n",
    "        self.name = name\n",
    "        self.speed = speed\n",
    "        self.fly_time = fly_time\n",
    "        self.rest_time = rest_time\n",
    "\n",
    "total = 2503\n",
    "m = {}\n",
    "\n",
    "for line in input.split('\\n'):\n",
    "    x = re.match('(\\S+) .* (\\d+) .* (\\d+) .* (\\d+) .*\\.', line)\n",
    "    name, speed, t1, t2 = x.group(1, 2, 3, 4)\n",
    "    speed, t1, t2 = int(speed), int(t1), int(t2)\n",
    "    m[name] = Reindeer(name, speed, t1, t2)\n",
    "\n",
    "dists = {}\n",
    "for k, v in m.items():\n",
    "    period = v.fly_time + v.rest_time\n",
    "    dists[k] = v.speed * (v.fly_time * (total // period) + min(total % period, v.fly_time))\n",
    "print(max(dists.values()))\n",
    "\n",
    "dist_stages = {}\n",
    "for k,v in m.items():\n",
    "    speed_stages = cycle(chain(repeat(v.speed, v.fly_time), \n",
    "                               repeat(0, v.rest_time)))\n",
    "    dist_stages[k] = islice(accumulate(speed_stages), total)\n",
    "\n",
    "scores = [i for a in zip(*dist_stages.values()) \n",
    "          for i, v in enumerate(a) if v == max(a)]\n",
    "print(max(Counter(scores).values()))\n"
   ]
  },
  {
   "cell_type": "code",
   "execution_count": 3,
   "metadata": {
    "collapsed": false
   },
   "outputs": [
    {
     "name": "stdout",
     "output_type": "stream",
     "text": [
      "21367368\n",
      "1766400\n"
     ]
    }
   ],
   "source": [
    "day = 15\n",
    "input = get_input(day)\n",
    "\n",
    "import re\n",
    "import numpy as np\n",
    "\n",
    "from functools import reduce\n",
    "from operator import mul\n",
    "\n",
    "m = []\n",
    "for line in input.split('\\n'):\n",
    "    c, d, f, t, cal = map(int, re.findall('-?\\d+', line))\n",
    "    m.append([c, d, f, t, cal])\n",
    "m = np.array(m)\n",
    "\n",
    "def min_zero_sum(*ns):\n",
    "    return max(0, sum(ns))\n",
    "\n",
    "scores = [(reduce(mul, map(min_zero_sum, \n",
    "                           *map(mul, [i, j, k, l], m[:, :-1]))),\n",
    "           sum(map(mul, [i, j, k, l], m[:, -1])))\n",
    "          for i in range(101) \n",
    "          for j in range(0, 101-i) \n",
    "          for k in range(0, 101-j-i) \n",
    "          for l in [100 - i - j - k]]\n",
    "# Part 1\n",
    "print(max(s[0] for s in scores))\n",
    "\n",
    "# Part 2\n",
    "print(max(s[0] for s in scores if s[1] == 500))"
   ]
  },
  {
   "cell_type": "code",
   "execution_count": 4,
   "metadata": {
    "collapsed": false
   },
   "outputs": [
    {
     "name": "stdout",
     "output_type": "stream",
     "text": [
      "21367368\n",
      "1766400\n"
     ]
    }
   ],
   "source": [
    "# Alternate Day 15\n",
    "day = 15\n",
    "input = get_input(day)\n",
    "\n",
    "import re\n",
    "import numpy as np\n",
    "\n",
    "from sympy import symbol\n",
    "from scipy.optimize import minimize\n",
    "\n",
    "from functools import reduce\n",
    "from operator import mul\n",
    "\n",
    "m = []\n",
    "for line in input.split('\\n'):\n",
    "    c, d, f, t, cal = map(int, re.findall('-?\\d+', line))\n",
    "    m.append([c, d, f, t, cal])\n",
    "m = np.array(m)\n",
    "\n",
    "a, b, c, d = symbols('a b c d')\n",
    "totals = [sum(x) for x in m[:,:-1].transpose()*np.array([a, b, c, d])]\n",
    "expr = reduce(mul, totals)\n",
    "def f(x):\n",
    "    return -expr.subs({a: x[0], b: x[1], c: x[2], d: x[3]})\n",
    "def rf(x):\n",
    "    return expr.subs({a: x[0], b: x[1], c: x[2], d: x[3]})\n",
    "ineqs = [lambda x: t.subs({a: x[0], b: x[1], c: x[2], d: x[3]}) for t in totals]\n",
    "eqs = [lambda x: sum(x)-100]\n",
    "cons = [{'type': 'eq', 'fun': x} for x in eqs] + [{'type': 'ineq', 'fun': x} for x in ineqs]\n",
    "res = minimize(f, [25, 25, 25, 25], bounds=[(0,100), (0,100), (0,100), (0,100)], constraints=cons)\n",
    "sol1 = rf([int(round(x)) for x in res.x])\n",
    "print(sol1)\n",
    "cons += [{'type': 'eq', 'fun': lambda x: sum(m[:,-1]*np.array([a, b, c, d])).subs({a: x[0], b: x[1], c: x[2], d: x[3]})-500}]\n",
    "res = minimize(f, [0, 0, 100, 0], bounds=[(0,100), (0,100), (0,100), (0,100)], constraints=cons)\n",
    "sol2 = rf([int(round(x)) for x in res.x])\n",
    "print(sol2)\n"
   ]
  },
  {
   "cell_type": "code",
   "execution_count": 6,
   "metadata": {
    "collapsed": false
   },
   "outputs": [
    {
     "name": "stdout",
     "output_type": "stream",
     "text": [
      "373\n",
      "260\n"
     ]
    }
   ],
   "source": [
    "day = 16\n",
    "input = get_input(day)\n",
    "\n",
    "import re\n",
    "\n",
    "m = []\n",
    "pattern = r'Sue \\d+: ([a-z]+): (\\d+), ([a-z]+): (\\d+), ([a-z]+): (\\d+)'\n",
    "for k1, a1, k2, a2, k3, a3 in re.findall(pattern, input):\n",
    "    a1, a2, a3 = int(a1), int(a2), int(a3)\n",
    "    m.append({k1: a1, k2: a2, k3: a3})\n",
    "\n",
    "tape = {\n",
    "    'children': 3,\n",
    "    'cats': 7,\n",
    "    'samoyeds': 2,\n",
    "    'pomeranians': 3,\n",
    "    'akitas': 0,\n",
    "    'vizslas': 0,\n",
    "    'goldfish': 5,\n",
    "    'trees': 3,\n",
    "    'cars': 2,\n",
    "    'perfumes': 1,\n",
    "}\n",
    "\n",
    "def could_match(aunt):\n",
    "    return all(tape[k] == v for k,v in aunt.items())\n",
    "\n",
    "aunts = [i+1 for i,x in enumerate(m)\n",
    "         if could_match(x)]\n",
    "assert len(aunts) == 1\n",
    "print(aunts[0])\n",
    "\n",
    "def could_match2(aunt):\n",
    "    for k,v in aunt.items():\n",
    "        if k in ['cats', 'trees']:\n",
    "            if tape[k] >= v:\n",
    "                return False\n",
    "        elif k in ['pomeranians', 'goldfish']:\n",
    "            if tape[k] <= v:\n",
    "                return False\n",
    "        else:\n",
    "            if tape[k] != v:\n",
    "                return False\n",
    "    return True\n",
    "\n",
    "aunts = [i+1 for i,x in enumerate(m)\n",
    "         if could_match2(x)]\n",
    "assert len(aunts) == 1\n",
    "print(aunts[0])"
   ]
  },
  {
   "cell_type": "code",
   "execution_count": 23,
   "metadata": {
    "collapsed": false
   },
   "outputs": [
    {
     "name": "stdout",
     "output_type": "stream",
     "text": [
      "1304\n",
      "18\n"
     ]
    }
   ],
   "source": [
    "day = 17\n",
    "input = get_input(day)\n",
    "\n",
    "from itertools import combinations\n",
    "\n",
    "m = [int(line) for line in input.split('\\n')]\n",
    "\n",
    "# Part 1 - Sum the number of all combinations that hold 150 L.\n",
    "total = 0\n",
    "for i in range(1, len(m)+1):\n",
    "    total += len([x for x in combinations(m, i) if sum(x) == 150])\n",
    "print(total)\n",
    "\n",
    "# Part 2 - Break at the first combination that holds 150 L,\n",
    "#    that's the smallest. Then just print the total as that's\n",
    "#    the number of ways you can store 150 L in those containers.\n",
    "total = 0\n",
    "for i in range(1, len(m)+1):\n",
    "    total += len([x for x in combinations(m, i) if sum(x) == 150])\n",
    "    if total:\n",
    "        break\n",
    "print(total)"
   ]
  },
  {
   "cell_type": "code",
   "execution_count": null,
   "metadata": {
    "collapsed": true
   },
   "outputs": [],
   "source": []
  }
 ],
 "metadata": {
  "kernelspec": {
   "display_name": "Python 3",
   "language": "python",
   "name": "python3"
  },
  "language_info": {
   "codemirror_mode": {
    "name": "ipython",
    "version": 3
   },
   "file_extension": ".py",
   "mimetype": "text/x-python",
   "name": "python",
   "nbconvert_exporter": "python",
   "pygments_lexer": "ipython3",
   "version": "3.5.1"
  }
 },
 "nbformat": 4,
 "nbformat_minor": 0
}
