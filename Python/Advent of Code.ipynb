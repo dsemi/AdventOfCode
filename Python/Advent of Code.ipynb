{
 "cells": [
  {
   "cell_type": "code",
   "execution_count": 2,
   "metadata": {
    "collapsed": true
   },
   "outputs": [],
   "source": [
    "def get_input(day):\n",
    "    with open('../inputs/input%d.txt' % day) as f:\n",
    "        return f.read().strip()"
   ]
  },
  {
   "cell_type": "code",
   "execution_count": 2,
   "metadata": {
    "collapsed": false
   },
   "outputs": [
    {
     "name": "stdout",
     "output_type": "stream",
     "text": [
      "74\n",
      "1795\n"
     ]
    }
   ],
   "source": [
    "day = 1\n",
    "input = get_input(day)\n",
    "\n",
    "m = {'(': 1, ')': -1}\n",
    "\n",
    "print(sum(m[x] for x in input))\n",
    "\n",
    "s = 0\n",
    "for i, x in enumerate(input):\n",
    "    s += m[x]\n",
    "    if s < 0:\n",
    "        print(i+1)\n",
    "        break"
   ]
  },
  {
   "cell_type": "code",
   "execution_count": 3,
   "metadata": {
    "collapsed": false
   },
   "outputs": [
    {
     "name": "stdout",
     "output_type": "stream",
     "text": [
      "1606483\n",
      "3842356\n"
     ]
    }
   ],
   "source": [
    "day = 2\n",
    "input = get_input(day)\n",
    "\n",
    "s = 0\n",
    "for line in input.split('\\n'):\n",
    "    [l, w, h] = map(int, line.split('x'))\n",
    "    s += 2*l*w + 2*l*h + 2*w*h + min(l*w, l*h, w*h)\n",
    "print(s)\n",
    "\n",
    "s = 0\n",
    "for line in input.split('\\n'):\n",
    "    [l, w, h] = map(int, line.split('x'))\n",
    "    s += 2 * min(l+w, l+h, w+h) + l*w*h\n",
    "print(s)"
   ]
  },
  {
   "cell_type": "code",
   "execution_count": 4,
   "metadata": {
    "collapsed": false
   },
   "outputs": [
    {
     "name": "stdout",
     "output_type": "stream",
     "text": [
      "2081\n",
      "2341\n"
     ]
    }
   ],
   "source": [
    "day = 3\n",
    "input = get_input(day)\n",
    "\n",
    "m = {\n",
    "    '^': lambda x,y: (x, y+1),\n",
    "    'v': lambda x,y: (x, y-1),\n",
    "    '>': lambda x,y: (x+1, y),\n",
    "    '<': lambda x,y: (x-1, y),\n",
    "}\n",
    "\n",
    "p = (0,0)\n",
    "s = {p}\n",
    "for x in input:\n",
    "    p = m[x](*p)\n",
    "    s.add(p)\n",
    "print(len(s))\n",
    "\n",
    "p1 = (0,0)\n",
    "p2 = (0,0)\n",
    "s = {p1}\n",
    "for x1,x2 in zip(input[::2], input[1::2]):\n",
    "    p1 = m[x1](*p1)\n",
    "    p2 = m[x2](*p2)\n",
    "    s.add(p1)\n",
    "    s.add(p2)\n",
    "print(len(s))"
   ]
  },
  {
   "cell_type": "code",
   "execution_count": 5,
   "metadata": {
    "collapsed": false,
    "scrolled": true
   },
   "outputs": [
    {
     "name": "stdout",
     "output_type": "stream",
     "text": [
      "117946\n",
      "3938038\n"
     ]
    }
   ],
   "source": [
    "day = 4\n",
    "input = get_input(day)\n",
    "\n",
    "import hashlib\n",
    "from itertools import count\n",
    "\n",
    "def f(s):\n",
    "    for i in count(1):\n",
    "        if hashlib.md5((input + str(i)).encode('utf-8')).hexdigest().startswith(s):\n",
    "            return i\n",
    "\n",
    "print(f(\"00000\"))\n",
    "\n",
    "print(f(\"000000\"))"
   ]
  },
  {
   "cell_type": "code",
   "execution_count": 6,
   "metadata": {
    "collapsed": false
   },
   "outputs": [
    {
     "name": "stdout",
     "output_type": "stream",
     "text": [
      "238\n",
      "69\n"
     ]
    }
   ],
   "source": [
    "day = 5\n",
    "input = get_input(day)\n",
    "\n",
    "import re\n",
    "\n",
    "def is_nice(s):\n",
    "    return len(re.findall(r'[aeiou]', s)) > 2 \\\n",
    "           and re.search(r'(.)\\1', s) \\\n",
    "           and not re.search(r'ab|cd|pq|xy', s)\n",
    "        \n",
    "print(sum(1 for x in input.split('\\n') if is_nice(x)))\n",
    "\n",
    "def is_nice2(s):\n",
    "    return re.search(r'(..).*\\1', s) \\\n",
    "           and re.search(r'(.).\\1', s)\n",
    "    \n",
    "print(sum(1 for x in input.split('\\n') if is_nice2(x)))"
   ]
  },
  {
   "cell_type": "code",
   "execution_count": 7,
   "metadata": {
    "collapsed": false
   },
   "outputs": [
    {
     "name": "stdout",
     "output_type": "stream",
     "text": [
      "543903\n",
      "14687245\n"
     ]
    }
   ],
   "source": [
    "day = 6\n",
    "input = get_input(day)\n",
    "\n",
    "import re\n",
    "\n",
    "def run_command(grid, cmd_str, fun1, fun2, fun3):\n",
    "    m = re.match(r'(toggle|turn on|turn off) (\\d+),(\\d+) through (\\d+),(\\d+)', line)\n",
    "    cmd = m.group(1)\n",
    "    x1,y1,x2,y2 = map(int, m.group(2, 3, 4, 5))\n",
    "    f = fun1 if cmd == \"toggle\" else fun2 if cmd == \"turn on\" else fun3\n",
    "    for x in range(x1, x2+1):\n",
    "        for y in range(y1, y2+1):\n",
    "            grid[x][y] = f(grid[x][y])\n",
    "\n",
    "grid = [[0 for _ in range(1000)] for _ in range(1000)]\n",
    "for line in input.split('\\n'):\n",
    "    run_command(grid, line,\n",
    "                lambda x: x ^ 1,\n",
    "                lambda x: 1,\n",
    "                lambda x: 0)\n",
    "\n",
    "print(sum(map(sum, grid)))\n",
    "\n",
    "grid = [[0 for _ in range(1000)] for _ in range(1000)]\n",
    "for line in input.split('\\n'):\n",
    "    run_command(grid, line,\n",
    "                lambda x: x + 2,\n",
    "                lambda x: x + 1,\n",
    "                lambda x: max(0, x-1))\n",
    "\n",
    "print(sum(map(sum, grid)))"
   ]
  },
  {
   "cell_type": "code",
   "execution_count": 8,
   "metadata": {
    "collapsed": false
   },
   "outputs": [
    {
     "name": "stdout",
     "output_type": "stream",
     "text": [
      "46065\n",
      "14134\n"
     ]
    }
   ],
   "source": [
    "day = 7\n",
    "input = get_input(day)\n",
    "\n",
    "import re\n",
    "from collections import deque\n",
    "\n",
    "ops = {\n",
    "    'NOT': '~',\n",
    "    'AND': '&',\n",
    "    'OR': '|',\n",
    "    'LSHIFT': '<<',\n",
    "    'RSHIFT': '>>',\n",
    "}\n",
    "\n",
    "def parse(line):\n",
    "    line = re.sub(r'([a-z]+)', 'nodes[\"\\\\1\"]', line)\n",
    "    expr, var = line.split(' -> ')\n",
    "    for op, val in ops.items():\n",
    "        expr = expr.replace(op, val)\n",
    "    return var, expr\n",
    "\n",
    "def eval_instr(instr, variables):\n",
    "    try:\n",
    "        exec(instr, {}, variables)\n",
    "        return True\n",
    "    except KeyError:\n",
    "        return False\n",
    "\n",
    "def get_node_value(instrs, varname):\n",
    "    variables = {'nodes': {}}\n",
    "    while len(instrs) > 0:\n",
    "        instr = instrs.popleft()\n",
    "        if not eval_instr(instr, variables):\n",
    "            instrs.append(instr)\n",
    "    return variables['nodes'][varname]\n",
    "\n",
    "instrs = deque('{} = {}'.format(*parse(line)) \n",
    "               for line in  input.split('\\n'))\n",
    "sol1 = get_node_value(instrs, 'a')\n",
    "print(sol1)\n",
    "\n",
    "instr_map = dict(parse(line)\n",
    "                 for line in  input.split('\\n'))\n",
    "instr_map['nodes[\"b\"]'] = sol1\n",
    "instrs = deque('{} = {}'.format(*pair) \n",
    "               for pair in instr_map.items())\n",
    "sol2 = get_node_value(instrs, 'a')\n",
    "print(sol2)"
   ]
  },
  {
   "cell_type": "code",
   "execution_count": 5,
   "metadata": {
    "collapsed": false
   },
   "outputs": [
    {
     "name": "stdout",
     "output_type": "stream",
     "text": [
      "1333\n",
      "2046\n"
     ]
    }
   ],
   "source": [
    "day = 8\n",
    "input = get_input(day)\n",
    "\n",
    "s = 0\n",
    "for line in input.split('\\n'):\n",
    "    s += len(line)\n",
    "    s -= len(eval(line))\n",
    "# Part 1\n",
    "print(s)\n",
    "\n",
    "s = 0\n",
    "for line in input.split('\\n'):\n",
    "    for c in line:\n",
    "        if c in ['\\\\', '\"']:\n",
    "            s += 2\n",
    "        else:\n",
    "            s += 1\n",
    "    s += 2 # surrounding quotes\n",
    "    s -= len(line)\n",
    " \n",
    "# Part 2\n",
    "print(s)"
   ]
  },
  {
   "cell_type": "code",
   "execution_count": null,
   "metadata": {
    "collapsed": true
   },
   "outputs": [],
   "source": []
  }
 ],
 "metadata": {
  "kernelspec": {
   "display_name": "Python 3",
   "language": "python",
   "name": "python3"
  },
  "language_info": {
   "codemirror_mode": {
    "name": "ipython",
    "version": 3
   },
   "file_extension": ".py",
   "mimetype": "text/x-python",
   "name": "python",
   "nbconvert_exporter": "python",
   "pygments_lexer": "ipython3",
   "version": "3.5.0"
  }
 },
 "nbformat": 4,
 "nbformat_minor": 0
}
